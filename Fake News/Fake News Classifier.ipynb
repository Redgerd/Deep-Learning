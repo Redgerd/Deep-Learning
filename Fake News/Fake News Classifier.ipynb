{
 "cells": [
  {
   "cell_type": "markdown",
   "metadata": {},
   "source": [
    "## **Description**\n",
    "Develop a machine learning program to identify when an article might be fake news. Run by the UTK Machine Learning Club.\n",
    "The evaluation metric for this competition is accuracy, a very straightforward metric.\n",
    "\n",
    "<math xmlns=\"http://www.w3.org/1998/Math/MathML\" display=\"block\">\n",
    "  <mi>a</mi>\n",
    "  <mi>c</mi>\n",
    "  <mi>c</mi>\n",
    "  <mi>u</mi>\n",
    "  <mi>r</mi>\n",
    "  <mi>a</mi>\n",
    "  <mi>c</mi>\n",
    "  <mi>y</mi>\n",
    "  <mo>=</mo>\n",
    "  <mfrac>\n",
    "    <mrow>\n",
    "      <mi>c</mi>\n",
    "      <mi>o</mi>\n",
    "      <mi>r</mi>\n",
    "      <mi>r</mi>\n",
    "      <mi>e</mi>\n",
    "      <mi>c</mi>\n",
    "      <mi>t</mi>\n",
    "      <mtext>&#xA0;</mtext>\n",
    "      <mi>p</mi>\n",
    "      <mi>r</mi>\n",
    "      <mi>e</mi>\n",
    "      <mi>d</mi>\n",
    "      <mi>i</mi>\n",
    "      <mi>c</mi>\n",
    "      <mi>t</mi>\n",
    "      <mi>i</mi>\n",
    "      <mi>o</mi>\n",
    "      <mi>n</mi>\n",
    "      <mi>s</mi>\n",
    "    </mrow>\n",
    "    <mrow>\n",
    "      <mi>c</mi>\n",
    "      <mi>o</mi>\n",
    "      <mi>r</mi>\n",
    "      <mi>r</mi>\n",
    "      <mi>e</mi>\n",
    "      <mi>c</mi>\n",
    "      <mi>t</mi>\n",
    "      <mtext>&#xA0;</mtext>\n",
    "      <mi>p</mi>\n",
    "      <mi>r</mi>\n",
    "      <mi>e</mi>\n",
    "      <mi>d</mi>\n",
    "      <mi>i</mi>\n",
    "      <mi>c</mi>\n",
    "      <mi>t</mi>\n",
    "      <mi>i</mi>\n",
    "      <mi>o</mi>\n",
    "      <mi>n</mi>\n",
    "      <mi>s</mi>\n",
    "      <mo>+</mo>\n",
    "      <mi>i</mi>\n",
    "      <mi>n</mi>\n",
    "      <mi>c</mi>\n",
    "      <mi>o</mi>\n",
    "      <mi>r</mi>\n",
    "      <mi>r</mi>\n",
    "      <mi>e</mi>\n",
    "      <mi>c</mi>\n",
    "      <mi>t</mi>\n",
    "      <mtext>&#xA0;</mtext>\n",
    "      <mi>p</mi>\n",
    "      <mi>r</mi>\n",
    "      <mi>e</mi>\n",
    "      <mi>d</mi>\n",
    "      <mi>i</mi>\n",
    "      <mi>c</mi>\n",
    "      <mi>t</mi>\n",
    "      <mi>i</mi>\n",
    "      <mi>o</mi>\n",
    "      <mi>n</mi>\n",
    "      <mi>s</mi>\n",
    "    </mrow>\n",
    "  </mfrac>\n",
    "</math>\n",
    "\n",
    "\n",
    "Accuracy measures false positives and false negeatives equally, and really should only be used in simple cases and when classes are of (generally) equal class size"
   ]
  },
  {
   "cell_type": "markdown",
   "metadata": {},
   "source": [
    "## **Dataset Description**\n",
    "**train.csv:** A full training dataset with the following attributes:\n",
    "- id: unique id for a news article\n",
    "- title: the title of a news article\n",
    "- author: author of the news article\n",
    "- text: the text of the article; could be incomplete\n",
    "- label: a label that marks the article as potentially unreliable\n",
    "    - 1: unreliable\n",
    "    - 0: reliable\n",
    "    \n",
    "**test.csv:** A testing training dataset with all the same attributes at train.csv without the label."
   ]
  },
  {
   "cell_type": "markdown",
   "metadata": {},
   "source": [
    "### **Getting Data**"
   ]
  },
  {
   "cell_type": "code",
   "execution_count": 1,
   "metadata": {},
   "outputs": [],
   "source": [
    "import pandas as pd\n",
    "import tensorflow as tf\n",
    "import numpy as np\n",
    "import matplotlib.pyplot as plt\n",
    "import seaborn as sns"
   ]
  },
  {
   "cell_type": "code",
   "execution_count": 2,
   "metadata": {},
   "outputs": [],
   "source": [
    "df_train = pd.read_csv('train.csv')\n",
    "df_test = pd.read_csv('test.csv')"
   ]
  },
  {
   "cell_type": "markdown",
   "metadata": {},
   "source": [
    "##### **Explore the missing values**"
   ]
  },
  {
   "cell_type": "code",
   "execution_count": 3,
   "metadata": {},
   "outputs": [],
   "source": [
    "def explore_data(df):\n",
    "    '''Input- df= pandas dataframes to be explored\n",
    "       Output- print shape, info and first 5 records of the dataframe \n",
    "    '''\n",
    "    print(\"-\"*50)\n",
    "    print('Shape of the dataframe:',df.shape)\n",
    "    print(\"Number of records in train data set:\",df.shape[0])\n",
    "    print(\"Information of the dataset:\")\n",
    "    df.info()\n",
    "    print(\"-\"*50)\n",
    "    print(\"First 5 records of the dataset:\")\n",
    "    return df.head()\n",
    "    print(\"-\"*50)"
   ]
  },
  {
   "cell_type": "code",
   "execution_count": 4,
   "metadata": {},
   "outputs": [
    {
     "name": "stdout",
     "output_type": "stream",
     "text": [
      "--------------------------------------------------\n",
      "Shape of the dataframe: (20800, 5)\n",
      "Number of records in train data set: 20800\n",
      "Information of the dataset:\n",
      "<class 'pandas.core.frame.DataFrame'>\n",
      "RangeIndex: 20800 entries, 0 to 20799\n",
      "Data columns (total 5 columns):\n",
      " #   Column  Non-Null Count  Dtype \n",
      "---  ------  --------------  ----- \n",
      " 0   id      20800 non-null  int64 \n",
      " 1   title   20242 non-null  object\n",
      " 2   author  18843 non-null  object\n",
      " 3   text    20761 non-null  object\n",
      " 4   label   20800 non-null  int64 \n",
      "dtypes: int64(2), object(3)\n",
      "memory usage: 812.6+ KB\n",
      "--------------------------------------------------\n",
      "First 5 records of the dataset:\n"
     ]
    },
    {
     "data": {
      "text/html": [
       "<div>\n",
       "<style scoped>\n",
       "    .dataframe tbody tr th:only-of-type {\n",
       "        vertical-align: middle;\n",
       "    }\n",
       "\n",
       "    .dataframe tbody tr th {\n",
       "        vertical-align: top;\n",
       "    }\n",
       "\n",
       "    .dataframe thead th {\n",
       "        text-align: right;\n",
       "    }\n",
       "</style>\n",
       "<table border=\"1\" class=\"dataframe\">\n",
       "  <thead>\n",
       "    <tr style=\"text-align: right;\">\n",
       "      <th></th>\n",
       "      <th>id</th>\n",
       "      <th>title</th>\n",
       "      <th>author</th>\n",
       "      <th>text</th>\n",
       "      <th>label</th>\n",
       "    </tr>\n",
       "  </thead>\n",
       "  <tbody>\n",
       "    <tr>\n",
       "      <th>0</th>\n",
       "      <td>0</td>\n",
       "      <td>House Dem Aide: We Didn’t Even See Comey’s Let...</td>\n",
       "      <td>Darrell Lucus</td>\n",
       "      <td>House Dem Aide: We Didn’t Even See Comey’s Let...</td>\n",
       "      <td>1</td>\n",
       "    </tr>\n",
       "    <tr>\n",
       "      <th>1</th>\n",
       "      <td>1</td>\n",
       "      <td>FLYNN: Hillary Clinton, Big Woman on Campus - ...</td>\n",
       "      <td>Daniel J. Flynn</td>\n",
       "      <td>Ever get the feeling your life circles the rou...</td>\n",
       "      <td>0</td>\n",
       "    </tr>\n",
       "    <tr>\n",
       "      <th>2</th>\n",
       "      <td>2</td>\n",
       "      <td>Why the Truth Might Get You Fired</td>\n",
       "      <td>Consortiumnews.com</td>\n",
       "      <td>Why the Truth Might Get You Fired October 29, ...</td>\n",
       "      <td>1</td>\n",
       "    </tr>\n",
       "    <tr>\n",
       "      <th>3</th>\n",
       "      <td>3</td>\n",
       "      <td>15 Civilians Killed In Single US Airstrike Hav...</td>\n",
       "      <td>Jessica Purkiss</td>\n",
       "      <td>Videos 15 Civilians Killed In Single US Airstr...</td>\n",
       "      <td>1</td>\n",
       "    </tr>\n",
       "    <tr>\n",
       "      <th>4</th>\n",
       "      <td>4</td>\n",
       "      <td>Iranian woman jailed for fictional unpublished...</td>\n",
       "      <td>Howard Portnoy</td>\n",
       "      <td>Print \\nAn Iranian woman has been sentenced to...</td>\n",
       "      <td>1</td>\n",
       "    </tr>\n",
       "  </tbody>\n",
       "</table>\n",
       "</div>"
      ],
      "text/plain": [
       "   id                                              title              author  \\\n",
       "0   0  House Dem Aide: We Didn’t Even See Comey’s Let...       Darrell Lucus   \n",
       "1   1  FLYNN: Hillary Clinton, Big Woman on Campus - ...     Daniel J. Flynn   \n",
       "2   2                  Why the Truth Might Get You Fired  Consortiumnews.com   \n",
       "3   3  15 Civilians Killed In Single US Airstrike Hav...     Jessica Purkiss   \n",
       "4   4  Iranian woman jailed for fictional unpublished...      Howard Portnoy   \n",
       "\n",
       "                                                text  label  \n",
       "0  House Dem Aide: We Didn’t Even See Comey’s Let...      1  \n",
       "1  Ever get the feeling your life circles the rou...      0  \n",
       "2  Why the Truth Might Get You Fired October 29, ...      1  \n",
       "3  Videos 15 Civilians Killed In Single US Airstr...      1  \n",
       "4  Print \\nAn Iranian woman has been sentenced to...      1  "
      ]
     },
     "execution_count": 4,
     "metadata": {},
     "output_type": "execute_result"
    }
   ],
   "source": [
    "explore_data(df_train)"
   ]
  },
  {
   "cell_type": "code",
   "execution_count": 5,
   "metadata": {},
   "outputs": [
    {
     "name": "stdout",
     "output_type": "stream",
     "text": [
      "--------------------------------------------------\n",
      "Shape of the dataframe: (5200, 4)\n",
      "Number of records in train data set: 5200\n",
      "Information of the dataset:\n",
      "<class 'pandas.core.frame.DataFrame'>\n",
      "RangeIndex: 5200 entries, 0 to 5199\n",
      "Data columns (total 4 columns):\n",
      " #   Column  Non-Null Count  Dtype \n",
      "---  ------  --------------  ----- \n",
      " 0   id      5200 non-null   int64 \n",
      " 1   title   5078 non-null   object\n",
      " 2   author  4697 non-null   object\n",
      " 3   text    5193 non-null   object\n",
      "dtypes: int64(1), object(3)\n",
      "memory usage: 162.6+ KB\n",
      "--------------------------------------------------\n",
      "First 5 records of the dataset:\n"
     ]
    },
    {
     "data": {
      "text/html": [
       "<div>\n",
       "<style scoped>\n",
       "    .dataframe tbody tr th:only-of-type {\n",
       "        vertical-align: middle;\n",
       "    }\n",
       "\n",
       "    .dataframe tbody tr th {\n",
       "        vertical-align: top;\n",
       "    }\n",
       "\n",
       "    .dataframe thead th {\n",
       "        text-align: right;\n",
       "    }\n",
       "</style>\n",
       "<table border=\"1\" class=\"dataframe\">\n",
       "  <thead>\n",
       "    <tr style=\"text-align: right;\">\n",
       "      <th></th>\n",
       "      <th>id</th>\n",
       "      <th>title</th>\n",
       "      <th>author</th>\n",
       "      <th>text</th>\n",
       "    </tr>\n",
       "  </thead>\n",
       "  <tbody>\n",
       "    <tr>\n",
       "      <th>0</th>\n",
       "      <td>20800</td>\n",
       "      <td>Specter of Trump Loosens Tongues, if Not Purse...</td>\n",
       "      <td>David Streitfeld</td>\n",
       "      <td>PALO ALTO, Calif.  —   After years of scorning...</td>\n",
       "    </tr>\n",
       "    <tr>\n",
       "      <th>1</th>\n",
       "      <td>20801</td>\n",
       "      <td>Russian warships ready to strike terrorists ne...</td>\n",
       "      <td>NaN</td>\n",
       "      <td>Russian warships ready to strike terrorists ne...</td>\n",
       "    </tr>\n",
       "    <tr>\n",
       "      <th>2</th>\n",
       "      <td>20802</td>\n",
       "      <td>#NoDAPL: Native American Leaders Vow to Stay A...</td>\n",
       "      <td>Common Dreams</td>\n",
       "      <td>Videos #NoDAPL: Native American Leaders Vow to...</td>\n",
       "    </tr>\n",
       "    <tr>\n",
       "      <th>3</th>\n",
       "      <td>20803</td>\n",
       "      <td>Tim Tebow Will Attempt Another Comeback, This ...</td>\n",
       "      <td>Daniel Victor</td>\n",
       "      <td>If at first you don’t succeed, try a different...</td>\n",
       "    </tr>\n",
       "    <tr>\n",
       "      <th>4</th>\n",
       "      <td>20804</td>\n",
       "      <td>Keiser Report: Meme Wars (E995)</td>\n",
       "      <td>Truth Broadcast Network</td>\n",
       "      <td>42 mins ago 1 Views 0 Comments 0 Likes 'For th...</td>\n",
       "    </tr>\n",
       "  </tbody>\n",
       "</table>\n",
       "</div>"
      ],
      "text/plain": [
       "      id                                              title  \\\n",
       "0  20800  Specter of Trump Loosens Tongues, if Not Purse...   \n",
       "1  20801  Russian warships ready to strike terrorists ne...   \n",
       "2  20802  #NoDAPL: Native American Leaders Vow to Stay A...   \n",
       "3  20803  Tim Tebow Will Attempt Another Comeback, This ...   \n",
       "4  20804                    Keiser Report: Meme Wars (E995)   \n",
       "\n",
       "                    author                                               text  \n",
       "0         David Streitfeld  PALO ALTO, Calif.  —   After years of scorning...  \n",
       "1                      NaN  Russian warships ready to strike terrorists ne...  \n",
       "2            Common Dreams  Videos #NoDAPL: Native American Leaders Vow to...  \n",
       "3            Daniel Victor  If at first you don’t succeed, try a different...  \n",
       "4  Truth Broadcast Network  42 mins ago 1 Views 0 Comments 0 Likes 'For th...  "
      ]
     },
     "execution_count": 5,
     "metadata": {},
     "output_type": "execute_result"
    }
   ],
   "source": [
    "explore_data(df_test)"
   ]
  },
  {
   "cell_type": "code",
   "execution_count": 6,
   "metadata": {},
   "outputs": [],
   "source": [
    "#Let's define a function to explore the missing values for the two datasets\n",
    "\n",
    "def missing_values(df):\n",
    "    print('{}% of title values are missing from Total Number of Records.'.format(round((df.title.isnull().sum())/(df.shape[0])*100),2))\n",
    "    print('{}% of author values are missing from Total Number of Records.'.format(round((df.author.isnull().sum())/(df.shape[0])*100),2))\n",
    "    print('{}% of text values are missing from Total Number of Records.'.format(round((df.text.isnull().sum())/(df.shape[0])*100),2))\n",
    "       \n",
    "    sns.heatmap(df.isnull(),yticklabels=False,cbar=False,cmap='viridis')\n",
    "\n",
    "    # Plot histogram of missing values\n",
    "    missing_counts = df.isnull().sum()\n",
    "    missing_counts = missing_counts[missing_counts > 0]\n",
    "    plt.figure(figsize=(10, 6))\n",
    "    plt.bar(missing_counts.index, missing_counts.values, color='skyblue')\n",
    "    plt.title('Histogram of Missing Values')\n",
    "    plt.xlabel('Columns')\n",
    "    plt.ylabel('Number of Missing Values')\n",
    "    plt.xticks(rotation=90)\n",
    "    plt.show()"
   ]
  },
  {
   "cell_type": "code",
   "execution_count": 7,
   "metadata": {},
   "outputs": [
    {
     "name": "stdout",
     "output_type": "stream",
     "text": [
      "2% of title values are missing from Total Number of Records.\n",
      "10% of author values are missing from Total Number of Records.\n",
      "0% of text values are missing from Total Number of Records.\n"
     ]
    },
    {
     "data": {
      "image/png": "[encoded data removed]",
      "text/plain": [
       "<Figure size 640x480 with 1 Axes>"
      ]
     },
     "metadata": {},
     "output_type": "display_data"
    },
    {
     "data": {
      "image/png": "[encoded data removed]",
      "text/plain": [
       "<Figure size 1000x600 with 1 Axes>"
      ]
     },
     "metadata": {},
     "output_type": "display_data"
    }
   ],
   "source": [
    "#let's use the missing_values function to see the missing values in the train dataset\n",
    "missing_values(df_test)"
   ]
  },
  {
   "cell_type": "code",
   "execution_count": 8,
   "metadata": {},
   "outputs": [
    {
     "name": "stdout",
     "output_type": "stream",
     "text": [
      "3% of title values are missing from Total Number of Records.\n",
      "9% of author values are missing from Total Number of Records.\n",
      "0% of text values are missing from Total Number of Records.\n"
     ]
    },
    {
     "data": {
      "image/png": "[encoded data removed]",
      "text/plain": [
       "<Figure size 640x480 with 1 Axes>"
      ]
     },
     "metadata": {},
     "output_type": "display_data"
    },
    {
     "data": {
      "image/png": "[encoded data removed]",
      "text/plain": [
       "<Figure size 1000x600 with 1 Axes>"
      ]
     },
     "metadata": {},
     "output_type": "display_data"
    }
   ],
   "source": [
    "#let's use the missing_values function to see the missing values in the train dataset\n",
    "missing_values(df_train)"
   ]
  },
  {
   "cell_type": "code",
   "execution_count": 9,
   "metadata": {},
   "outputs": [],
   "source": [
    "df_test = df_test.dropna()\n",
    "df_train = df_train.dropna()"
   ]
  },
  {
   "cell_type": "markdown",
   "metadata": {},
   "source": [
    "As our dataset is very extensive we can afford to drop null instances"
   ]
  },
  {
   "cell_type": "code",
   "execution_count": 10,
   "metadata": {},
   "outputs": [
    {
     "data": {
      "text/plain": [
       "((18285, 5), (4575, 4))"
      ]
     },
     "execution_count": 10,
     "metadata": {},
     "output_type": "execute_result"
    }
   ],
   "source": [
    "df_train.shape, df_test.shape"
   ]
  },
  {
   "cell_type": "markdown",
   "metadata": {},
   "source": [
    "#### **Class distribution**"
   ]
  },
  {
   "cell_type": "code",
   "execution_count": 11,
   "metadata": {},
   "outputs": [
    {
     "name": "stdout",
     "output_type": "stream",
     "text": [
      "Target of 0 is 57 % of total\n",
      "Target of 1 is 43 % of total\n"
     ]
    },
    {
     "data": {
      "image/png": "[encoded data removed]",
      "text/plain": [
       "<Figure size 640x480 with 1 Axes>"
      ]
     },
     "metadata": {},
     "output_type": "display_data"
    }
   ],
   "source": [
    "print('Target of 0 is {} % of total'.format(round(df_train['label'].value_counts()[0]/len(df_train['label'])*100)))\n",
    "print('Target of 1 is {} % of total'.format(round(df_train['label'].value_counts()[1]/len(df_train['label'])*100)))\n",
    "\n",
    "x=df_train.label.value_counts()\n",
    "sns.barplot(x=x.index, y=x)\n",
    "plt.show()"
   ]
  },
  {
   "cell_type": "markdown",
   "metadata": {},
   "source": [
    "### **Cleaning the Data**\n",
    "Before starting any NLP project, text data needs to be pre-processed to convert it into in a consistent format.Text will be cleaned, tokneized and converted into a matrix.\n",
    "- Step 1: Lowercase\n",
    "- Step 2: Punctuation Removal\n",
    "- Step 3: HTML Code and URL Links\n",
    "- Step 4: Spell Checks \n",
    "- Step 5: Tokenization\n",
    "- Step 6: Removing Stop Words\n",
    "- Step 7: Normalization\n",
    "    - Stemming\n",
    "    - Lemmatization"
   ]
  },
  {
   "cell_type": "markdown",
   "metadata": {},
   "source": [
    "#### **Step 1: Lowercase**"
   ]
  },
  {
   "cell_type": "code",
   "execution_count": 12,
   "metadata": {},
   "outputs": [
    {
     "name": "stderr",
     "output_type": "stream",
     "text": [
      "C:\\Users\\sa\\AppData\\Local\\Temp\\ipykernel_10936\\3467437343.py:1: FutureWarning: DataFrame.applymap has been deprecated. Use DataFrame.map instead.\n",
      "  df_train = df_train.applymap(lambda x: x.lower() if isinstance(x, str) else x)\n"
     ]
    },
    {
     "data": {
      "text/html": [
       "<div>\n",
       "<style scoped>\n",
       "    .dataframe tbody tr th:only-of-type {\n",
       "        vertical-align: middle;\n",
       "    }\n",
       "\n",
       "    .dataframe tbody tr th {\n",
       "        vertical-align: top;\n",
       "    }\n",
       "\n",
       "    .dataframe thead th {\n",
       "        text-align: right;\n",
       "    }\n",
       "</style>\n",
       "<table border=\"1\" class=\"dataframe\">\n",
       "  <thead>\n",
       "    <tr style=\"text-align: right;\">\n",
       "      <th></th>\n",
       "      <th>id</th>\n",
       "      <th>title</th>\n",
       "      <th>author</th>\n",
       "      <th>text</th>\n",
       "      <th>label</th>\n",
       "    </tr>\n",
       "  </thead>\n",
       "  <tbody>\n",
       "    <tr>\n",
       "      <th>0</th>\n",
       "      <td>0</td>\n",
       "      <td>house dem aide: we didn’t even see comey’s let...</td>\n",
       "      <td>darrell lucus</td>\n",
       "      <td>house dem aide: we didn’t even see comey’s let...</td>\n",
       "      <td>1</td>\n",
       "    </tr>\n",
       "    <tr>\n",
       "      <th>1</th>\n",
       "      <td>1</td>\n",
       "      <td>flynn: hillary clinton, big woman on campus - ...</td>\n",
       "      <td>daniel j. flynn</td>\n",
       "      <td>ever get the feeling your life circles the rou...</td>\n",
       "      <td>0</td>\n",
       "    </tr>\n",
       "    <tr>\n",
       "      <th>2</th>\n",
       "      <td>2</td>\n",
       "      <td>why the truth might get you fired</td>\n",
       "      <td>consortiumnews.com</td>\n",
       "      <td>why the truth might get you fired october 29, ...</td>\n",
       "      <td>1</td>\n",
       "    </tr>\n",
       "    <tr>\n",
       "      <th>3</th>\n",
       "      <td>3</td>\n",
       "      <td>15 civilians killed in single us airstrike hav...</td>\n",
       "      <td>jessica purkiss</td>\n",
       "      <td>videos 15 civilians killed in single us airstr...</td>\n",
       "      <td>1</td>\n",
       "    </tr>\n",
       "    <tr>\n",
       "      <th>4</th>\n",
       "      <td>4</td>\n",
       "      <td>iranian woman jailed for fictional unpublished...</td>\n",
       "      <td>howard portnoy</td>\n",
       "      <td>print \\nan iranian woman has been sentenced to...</td>\n",
       "      <td>1</td>\n",
       "    </tr>\n",
       "    <tr>\n",
       "      <th>...</th>\n",
       "      <td>...</td>\n",
       "      <td>...</td>\n",
       "      <td>...</td>\n",
       "      <td>...</td>\n",
       "      <td>...</td>\n",
       "    </tr>\n",
       "    <tr>\n",
       "      <th>20795</th>\n",
       "      <td>20795</td>\n",
       "      <td>rapper t.i.: trump a ’poster child for white s...</td>\n",
       "      <td>jerome hudson</td>\n",
       "      <td>rapper t. i. unloaded on black celebrities who...</td>\n",
       "      <td>0</td>\n",
       "    </tr>\n",
       "    <tr>\n",
       "      <th>20796</th>\n",
       "      <td>20796</td>\n",
       "      <td>n.f.l. playoffs: schedule, matchups and odds -...</td>\n",
       "      <td>benjamin hoffman</td>\n",
       "      <td>when the green bay packers lost to the washing...</td>\n",
       "      <td>0</td>\n",
       "    </tr>\n",
       "    <tr>\n",
       "      <th>20797</th>\n",
       "      <td>20797</td>\n",
       "      <td>macy’s is said to receive takeover approach by...</td>\n",
       "      <td>michael j. de la merced and rachel abrams</td>\n",
       "      <td>the macy’s of today grew from the union of sev...</td>\n",
       "      <td>0</td>\n",
       "    </tr>\n",
       "    <tr>\n",
       "      <th>20798</th>\n",
       "      <td>20798</td>\n",
       "      <td>nato, russia to hold parallel exercises in bal...</td>\n",
       "      <td>alex ansary</td>\n",
       "      <td>nato, russia to hold parallel exercises in bal...</td>\n",
       "      <td>1</td>\n",
       "    </tr>\n",
       "    <tr>\n",
       "      <th>20799</th>\n",
       "      <td>20799</td>\n",
       "      <td>what keeps the f-35 alive</td>\n",
       "      <td>david swanson</td>\n",
       "      <td>david swanson is an author, activist, journa...</td>\n",
       "      <td>1</td>\n",
       "    </tr>\n",
       "  </tbody>\n",
       "</table>\n",
       "<p>18285 rows × 5 columns</p>\n",
       "</div>"
      ],
      "text/plain": [
       "          id                                              title  \\\n",
       "0          0  house dem aide: we didn’t even see comey’s let...   \n",
       "1          1  flynn: hillary clinton, big woman on campus - ...   \n",
       "2          2                  why the truth might get you fired   \n",
       "3          3  15 civilians killed in single us airstrike hav...   \n",
       "4          4  iranian woman jailed for fictional unpublished...   \n",
       "...      ...                                                ...   \n",
       "20795  20795  rapper t.i.: trump a ’poster child for white s...   \n",
       "20796  20796  n.f.l. playoffs: schedule, matchups and odds -...   \n",
       "20797  20797  macy’s is said to receive takeover approach by...   \n",
       "20798  20798  nato, russia to hold parallel exercises in bal...   \n",
       "20799  20799                          what keeps the f-35 alive   \n",
       "\n",
       "                                          author  \\\n",
       "0                                  darrell lucus   \n",
       "1                                daniel j. flynn   \n",
       "2                             consortiumnews.com   \n",
       "3                                jessica purkiss   \n",
       "4                                 howard portnoy   \n",
       "...                                          ...   \n",
       "20795                              jerome hudson   \n",
       "20796                           benjamin hoffman   \n",
       "20797  michael j. de la merced and rachel abrams   \n",
       "20798                                alex ansary   \n",
       "20799                              david swanson   \n",
       "\n",
       "                                                    text  label  \n",
       "0      house dem aide: we didn’t even see comey’s let...      1  \n",
       "1      ever get the feeling your life circles the rou...      0  \n",
       "2      why the truth might get you fired october 29, ...      1  \n",
       "3      videos 15 civilians killed in single us airstr...      1  \n",
       "4      print \\nan iranian woman has been sentenced to...      1  \n",
       "...                                                  ...    ...  \n",
       "20795  rapper t. i. unloaded on black celebrities who...      0  \n",
       "20796  when the green bay packers lost to the washing...      0  \n",
       "20797  the macy’s of today grew from the union of sev...      0  \n",
       "20798  nato, russia to hold parallel exercises in bal...      1  \n",
       "20799    david swanson is an author, activist, journa...      1  \n",
       "\n",
       "[18285 rows x 5 columns]"
      ]
     },
     "execution_count": 12,
     "metadata": {},
     "output_type": "execute_result"
    }
   ],
   "source": [
    "df_train = df_train.applymap(lambda x: x.lower() if isinstance(x, str) else x)\n",
    "df_train"
   ]
  },
  {
   "cell_type": "code",
   "execution_count": 13,
   "metadata": {},
   "outputs": [
    {
     "name": "stderr",
     "output_type": "stream",
     "text": [
      "C:\\Users\\sa\\AppData\\Local\\Temp\\ipykernel_10936\\3176910913.py:1: FutureWarning: DataFrame.applymap has been deprecated. Use DataFrame.map instead.\n",
      "  df_test = df_train.applymap(lambda x: x.lower() if isinstance(x, str) else x)\n"
     ]
    },
    {
     "data": {
      "text/html": [
       "<div>\n",
       "<style scoped>\n",
       "    .dataframe tbody tr th:only-of-type {\n",
       "        vertical-align: middle;\n",
       "    }\n",
       "\n",
       "    .dataframe tbody tr th {\n",
       "        vertical-align: top;\n",
       "    }\n",
       "\n",
       "    .dataframe thead th {\n",
       "        text-align: right;\n",
       "    }\n",
       "</style>\n",
       "<table border=\"1\" class=\"dataframe\">\n",
       "  <thead>\n",
       "    <tr style=\"text-align: right;\">\n",
       "      <th></th>\n",
       "      <th>id</th>\n",
       "      <th>title</th>\n",
       "      <th>author</th>\n",
       "      <th>text</th>\n",
       "      <th>label</th>\n",
       "    </tr>\n",
       "  </thead>\n",
       "  <tbody>\n",
       "    <tr>\n",
       "      <th>0</th>\n",
       "      <td>0</td>\n",
       "      <td>house dem aide: we didn’t even see comey’s let...</td>\n",
       "      <td>darrell lucus</td>\n",
       "      <td>house dem aide: we didn’t even see comey’s let...</td>\n",
       "      <td>1</td>\n",
       "    </tr>\n",
       "    <tr>\n",
       "      <th>1</th>\n",
       "      <td>1</td>\n",
       "      <td>flynn: hillary clinton, big woman on campus - ...</td>\n",
       "      <td>daniel j. flynn</td>\n",
       "      <td>ever get the feeling your life circles the rou...</td>\n",
       "      <td>0</td>\n",
       "    </tr>\n",
       "    <tr>\n",
       "      <th>2</th>\n",
       "      <td>2</td>\n",
       "      <td>why the truth might get you fired</td>\n",
       "      <td>consortiumnews.com</td>\n",
       "      <td>why the truth might get you fired october 29, ...</td>\n",
       "      <td>1</td>\n",
       "    </tr>\n",
       "    <tr>\n",
       "      <th>3</th>\n",
       "      <td>3</td>\n",
       "      <td>15 civilians killed in single us airstrike hav...</td>\n",
       "      <td>jessica purkiss</td>\n",
       "      <td>videos 15 civilians killed in single us airstr...</td>\n",
       "      <td>1</td>\n",
       "    </tr>\n",
       "    <tr>\n",
       "      <th>4</th>\n",
       "      <td>4</td>\n",
       "      <td>iranian woman jailed for fictional unpublished...</td>\n",
       "      <td>howard portnoy</td>\n",
       "      <td>print \\nan iranian woman has been sentenced to...</td>\n",
       "      <td>1</td>\n",
       "    </tr>\n",
       "    <tr>\n",
       "      <th>...</th>\n",
       "      <td>...</td>\n",
       "      <td>...</td>\n",
       "      <td>...</td>\n",
       "      <td>...</td>\n",
       "      <td>...</td>\n",
       "    </tr>\n",
       "    <tr>\n",
       "      <th>20795</th>\n",
       "      <td>20795</td>\n",
       "      <td>rapper t.i.: trump a ’poster child for white s...</td>\n",
       "      <td>jerome hudson</td>\n",
       "      <td>rapper t. i. unloaded on black celebrities who...</td>\n",
       "      <td>0</td>\n",
       "    </tr>\n",
       "    <tr>\n",
       "      <th>20796</th>\n",
       "      <td>20796</td>\n",
       "      <td>n.f.l. playoffs: schedule, matchups and odds -...</td>\n",
       "      <td>benjamin hoffman</td>\n",
       "      <td>when the green bay packers lost to the washing...</td>\n",
       "      <td>0</td>\n",
       "    </tr>\n",
       "    <tr>\n",
       "      <th>20797</th>\n",
       "      <td>20797</td>\n",
       "      <td>macy’s is said to receive takeover approach by...</td>\n",
       "      <td>michael j. de la merced and rachel abrams</td>\n",
       "      <td>the macy’s of today grew from the union of sev...</td>\n",
       "      <td>0</td>\n",
       "    </tr>\n",
       "    <tr>\n",
       "      <th>20798</th>\n",
       "      <td>20798</td>\n",
       "      <td>nato, russia to hold parallel exercises in bal...</td>\n",
       "      <td>alex ansary</td>\n",
       "      <td>nato, russia to hold parallel exercises in bal...</td>\n",
       "      <td>1</td>\n",
       "    </tr>\n",
       "    <tr>\n",
       "      <th>20799</th>\n",
       "      <td>20799</td>\n",
       "      <td>what keeps the f-35 alive</td>\n",
       "      <td>david swanson</td>\n",
       "      <td>david swanson is an author, activist, journa...</td>\n",
       "      <td>1</td>\n",
       "    </tr>\n",
       "  </tbody>\n",
       "</table>\n",
       "<p>18285 rows × 5 columns</p>\n",
       "</div>"
      ],
      "text/plain": [
       "          id                                              title  \\\n",
       "0          0  house dem aide: we didn’t even see comey’s let...   \n",
       "1          1  flynn: hillary clinton, big woman on campus - ...   \n",
       "2          2                  why the truth might get you fired   \n",
       "3          3  15 civilians killed in single us airstrike hav...   \n",
       "4          4  iranian woman jailed for fictional unpublished...   \n",
       "...      ...                                                ...   \n",
       "20795  20795  rapper t.i.: trump a ’poster child for white s...   \n",
       "20796  20796  n.f.l. playoffs: schedule, matchups and odds -...   \n",
       "20797  20797  macy’s is said to receive takeover approach by...   \n",
       "20798  20798  nato, russia to hold parallel exercises in bal...   \n",
       "20799  20799                          what keeps the f-35 alive   \n",
       "\n",
       "                                          author  \\\n",
       "0                                  darrell lucus   \n",
       "1                                daniel j. flynn   \n",
       "2                             consortiumnews.com   \n",
       "3                                jessica purkiss   \n",
       "4                                 howard portnoy   \n",
       "...                                          ...   \n",
       "20795                              jerome hudson   \n",
       "20796                           benjamin hoffman   \n",
       "20797  michael j. de la merced and rachel abrams   \n",
       "20798                                alex ansary   \n",
       "20799                              david swanson   \n",
       "\n",
       "                                                    text  label  \n",
       "0      house dem aide: we didn’t even see comey’s let...      1  \n",
       "1      ever get the feeling your life circles the rou...      0  \n",
       "2      why the truth might get you fired october 29, ...      1  \n",
       "3      videos 15 civilians killed in single us airstr...      1  \n",
       "4      print \\nan iranian woman has been sentenced to...      1  \n",
       "...                                                  ...    ...  \n",
       "20795  rapper t. i. unloaded on black celebrities who...      0  \n",
       "20796  when the green bay packers lost to the washing...      0  \n",
       "20797  the macy’s of today grew from the union of sev...      0  \n",
       "20798  nato, russia to hold parallel exercises in bal...      1  \n",
       "20799    david swanson is an author, activist, journa...      1  \n",
       "\n",
       "[18285 rows x 5 columns]"
      ]
     },
     "execution_count": 13,
     "metadata": {},
     "output_type": "execute_result"
    }
   ],
   "source": [
    "df_test = df_train.applymap(lambda x: x.lower() if isinstance(x, str) else x)\n",
    "df_test"
   ]
  },
  {
   "cell_type": "markdown",
   "metadata": {},
   "source": [
    "#### **Step 2: Punctuation**"
   ]
  },
  {
   "cell_type": "code",
   "execution_count": 14,
   "metadata": {},
   "outputs": [
    {
     "data": {
      "text/html": [
       "<div>\n",
       "<style scoped>\n",
       "    .dataframe tbody tr th:only-of-type {\n",
       "        vertical-align: middle;\n",
       "    }\n",
       "\n",
       "    .dataframe tbody tr th {\n",
       "        vertical-align: top;\n",
       "    }\n",
       "\n",
       "    .dataframe thead th {\n",
       "        text-align: right;\n",
       "    }\n",
       "</style>\n",
       "<table border=\"1\" class=\"dataframe\">\n",
       "  <thead>\n",
       "    <tr style=\"text-align: right;\">\n",
       "      <th></th>\n",
       "      <th>id</th>\n",
       "      <th>title</th>\n",
       "      <th>author</th>\n",
       "      <th>text</th>\n",
       "      <th>label</th>\n",
       "      <th>title_wo_punct</th>\n",
       "    </tr>\n",
       "  </thead>\n",
       "  <tbody>\n",
       "    <tr>\n",
       "      <th>0</th>\n",
       "      <td>0</td>\n",
       "      <td>house dem aide: we didn’t even see comey’s let...</td>\n",
       "      <td>darrell lucus</td>\n",
       "      <td>house dem aide: we didn’t even see comey’s let...</td>\n",
       "      <td>1</td>\n",
       "      <td>house dem aide we didn’t even see comey’s lett...</td>\n",
       "    </tr>\n",
       "    <tr>\n",
       "      <th>1</th>\n",
       "      <td>1</td>\n",
       "      <td>flynn: hillary clinton, big woman on campus - ...</td>\n",
       "      <td>daniel j. flynn</td>\n",
       "      <td>ever get the feeling your life circles the rou...</td>\n",
       "      <td>0</td>\n",
       "      <td>flynn hillary clinton big woman on campus  bre...</td>\n",
       "    </tr>\n",
       "    <tr>\n",
       "      <th>2</th>\n",
       "      <td>2</td>\n",
       "      <td>why the truth might get you fired</td>\n",
       "      <td>consortiumnews.com</td>\n",
       "      <td>why the truth might get you fired october 29, ...</td>\n",
       "      <td>1</td>\n",
       "      <td>why the truth might get you fired</td>\n",
       "    </tr>\n",
       "    <tr>\n",
       "      <th>3</th>\n",
       "      <td>3</td>\n",
       "      <td>15 civilians killed in single us airstrike hav...</td>\n",
       "      <td>jessica purkiss</td>\n",
       "      <td>videos 15 civilians killed in single us airstr...</td>\n",
       "      <td>1</td>\n",
       "      <td>15 civilians killed in single us airstrike hav...</td>\n",
       "    </tr>\n",
       "    <tr>\n",
       "      <th>4</th>\n",
       "      <td>4</td>\n",
       "      <td>iranian woman jailed for fictional unpublished...</td>\n",
       "      <td>howard portnoy</td>\n",
       "      <td>print \\nan iranian woman has been sentenced to...</td>\n",
       "      <td>1</td>\n",
       "      <td>iranian woman jailed for fictional unpublished...</td>\n",
       "    </tr>\n",
       "  </tbody>\n",
       "</table>\n",
       "</div>"
      ],
      "text/plain": [
       "   id                                              title              author  \\\n",
       "0   0  house dem aide: we didn’t even see comey’s let...       darrell lucus   \n",
       "1   1  flynn: hillary clinton, big woman on campus - ...     daniel j. flynn   \n",
       "2   2                  why the truth might get you fired  consortiumnews.com   \n",
       "3   3  15 civilians killed in single us airstrike hav...     jessica purkiss   \n",
       "4   4  iranian woman jailed for fictional unpublished...      howard portnoy   \n",
       "\n",
       "                                                text  label  \\\n",
       "0  house dem aide: we didn’t even see comey’s let...      1   \n",
       "1  ever get the feeling your life circles the rou...      0   \n",
       "2  why the truth might get you fired october 29, ...      1   \n",
       "3  videos 15 civilians killed in single us airstr...      1   \n",
       "4  print \\nan iranian woman has been sentenced to...      1   \n",
       "\n",
       "                                      title_wo_punct  \n",
       "0  house dem aide we didn’t even see comey’s lett...  \n",
       "1  flynn hillary clinton big woman on campus  bre...  \n",
       "2                  why the truth might get you fired  \n",
       "3  15 civilians killed in single us airstrike hav...  \n",
       "4  iranian woman jailed for fictional unpublished...  "
      ]
     },
     "execution_count": 14,
     "metadata": {},
     "output_type": "execute_result"
    }
   ],
   "source": [
    "import string\n",
    "\n",
    "def remove_punctuation(text):\n",
    "    no_punct=[words for words in text if words not in string.punctuation ]\n",
    "    words_wo_punct=''.join(no_punct)\n",
    "    return words_wo_punct\n",
    "\n",
    "# Remove punctuation from both train and test dataset\n",
    "df_train['title_wo_punct']=df_train['title'].apply(lambda x: remove_punctuation(x))\n",
    "df_test['title_wo_punct']=df_test['title'].apply(lambda x: remove_punctuation(x))\n",
    "\n",
    "df_train.head()"
   ]
  },
  {
   "cell_type": "markdown",
   "metadata": {},
   "source": [
    "#### **Step 3: HTML Code , URL Links & emoji**"
   ]
  },
  {
   "cell_type": "code",
   "execution_count": 15,
   "metadata": {},
   "outputs": [
    {
     "data": {
      "text/html": [
       "<div>\n",
       "<style scoped>\n",
       "    .dataframe tbody tr th:only-of-type {\n",
       "        vertical-align: middle;\n",
       "    }\n",
       "\n",
       "    .dataframe tbody tr th {\n",
       "        vertical-align: top;\n",
       "    }\n",
       "\n",
       "    .dataframe thead th {\n",
       "        text-align: right;\n",
       "    }\n",
       "</style>\n",
       "<table border=\"1\" class=\"dataframe\">\n",
       "  <thead>\n",
       "    <tr style=\"text-align: right;\">\n",
       "      <th></th>\n",
       "      <th>id</th>\n",
       "      <th>title</th>\n",
       "      <th>author</th>\n",
       "      <th>text</th>\n",
       "      <th>label</th>\n",
       "      <th>title_wo_punct</th>\n",
       "      <th>title_wo_punct_clean</th>\n",
       "    </tr>\n",
       "  </thead>\n",
       "  <tbody>\n",
       "    <tr>\n",
       "      <th>0</th>\n",
       "      <td>0</td>\n",
       "      <td>house dem aide: we didn’t even see comey’s let...</td>\n",
       "      <td>darrell lucus</td>\n",
       "      <td>house dem aide: we didn’t even see comey’s let...</td>\n",
       "      <td>1</td>\n",
       "      <td>house dem aide we didn’t even see comey’s lett...</td>\n",
       "      <td>house dem aide we didn’t even see comey’s lett...</td>\n",
       "    </tr>\n",
       "    <tr>\n",
       "      <th>1</th>\n",
       "      <td>1</td>\n",
       "      <td>flynn: hillary clinton, big woman on campus - ...</td>\n",
       "      <td>daniel j. flynn</td>\n",
       "      <td>ever get the feeling your life circles the rou...</td>\n",
       "      <td>0</td>\n",
       "      <td>flynn hillary clinton big woman on campus  bre...</td>\n",
       "      <td>flynn hillary clinton big woman on campus  bre...</td>\n",
       "    </tr>\n",
       "    <tr>\n",
       "      <th>2</th>\n",
       "      <td>2</td>\n",
       "      <td>why the truth might get you fired</td>\n",
       "      <td>consortiumnews.com</td>\n",
       "      <td>why the truth might get you fired october 29, ...</td>\n",
       "      <td>1</td>\n",
       "      <td>why the truth might get you fired</td>\n",
       "      <td>why the truth might get you fired</td>\n",
       "    </tr>\n",
       "    <tr>\n",
       "      <th>3</th>\n",
       "      <td>3</td>\n",
       "      <td>15 civilians killed in single us airstrike hav...</td>\n",
       "      <td>jessica purkiss</td>\n",
       "      <td>videos 15 civilians killed in single us airstr...</td>\n",
       "      <td>1</td>\n",
       "      <td>15 civilians killed in single us airstrike hav...</td>\n",
       "      <td>civilians killed in single us airstrike have ...</td>\n",
       "    </tr>\n",
       "    <tr>\n",
       "      <th>4</th>\n",
       "      <td>4</td>\n",
       "      <td>iranian woman jailed for fictional unpublished...</td>\n",
       "      <td>howard portnoy</td>\n",
       "      <td>print \\nan iranian woman has been sentenced to...</td>\n",
       "      <td>1</td>\n",
       "      <td>iranian woman jailed for fictional unpublished...</td>\n",
       "      <td>iranian woman jailed for fictional unpublished...</td>\n",
       "    </tr>\n",
       "  </tbody>\n",
       "</table>\n",
       "</div>"
      ],
      "text/plain": [
       "   id                                              title              author  \\\n",
       "0   0  house dem aide: we didn’t even see comey’s let...       darrell lucus   \n",
       "1   1  flynn: hillary clinton, big woman on campus - ...     daniel j. flynn   \n",
       "2   2                  why the truth might get you fired  consortiumnews.com   \n",
       "3   3  15 civilians killed in single us airstrike hav...     jessica purkiss   \n",
       "4   4  iranian woman jailed for fictional unpublished...      howard portnoy   \n",
       "\n",
       "                                                text  label  \\\n",
       "0  house dem aide: we didn’t even see comey’s let...      1   \n",
       "1  ever get the feeling your life circles the rou...      0   \n",
       "2  why the truth might get you fired october 29, ...      1   \n",
       "3  videos 15 civilians killed in single us airstr...      1   \n",
       "4  print \\nan iranian woman has been sentenced to...      1   \n",
       "\n",
       "                                      title_wo_punct  \\\n",
       "0  house dem aide we didn’t even see comey’s lett...   \n",
       "1  flynn hillary clinton big woman on campus  bre...   \n",
       "2                  why the truth might get you fired   \n",
       "3  15 civilians killed in single us airstrike hav...   \n",
       "4  iranian woman jailed for fictional unpublished...   \n",
       "\n",
       "                                title_wo_punct_clean  \n",
       "0  house dem aide we didn’t even see comey’s lett...  \n",
       "1  flynn hillary clinton big woman on campus  bre...  \n",
       "2                  why the truth might get you fired  \n",
       "3   civilians killed in single us airstrike have ...  \n",
       "4  iranian woman jailed for fictional unpublished...  "
      ]
     },
     "execution_count": 15,
     "metadata": {},
     "output_type": "execute_result"
    }
   ],
   "source": [
    "import re  # Import the re module for regular expressions\n",
    "\n",
    "def text_clean(text):\n",
    "    text = re.sub(r'^https?:\\/\\/.*[\\r\\n]*', '', text, flags=re.MULTILINE)\n",
    "    text = re.sub('<.*?>+', '', text)\n",
    "    regrex_pattern = re.compile(pattern = \"[\"\n",
    "        u\"\\U0001F600-\\U0001F64F\"  # emoticons\n",
    "        u\"\\U0001F300-\\U0001F5FF\"  # symbols & pictographs\n",
    "        u\"\\U0001F680-\\U0001F6FF\"  # transport & map symbols\n",
    "        u\"\\U0001F1E0-\\U0001F1FF\"  # flags (iOS)\n",
    "                           \"]+\", flags = re.UNICODE)\n",
    "    text = regrex_pattern.sub(r'',text)\n",
    "    text = ''.join([i for i in text if not i.isdigit()])\n",
    "    return text\n",
    "df_train['title_wo_punct_clean']=df_train['title_wo_punct'].apply(lambda x: text_clean(x))\n",
    "df_test['title_wo_punct_clean']=df_test['title_wo_punct'].apply(lambda x: text_clean(x))\n",
    "df_train.head()"
   ]
  },
  {
   "cell_type": "markdown",
   "metadata": {},
   "source": [
    "#### **Step 4: Spell Checks**"
   ]
  },
  {
   "cell_type": "code",
   "execution_count": 150,
   "metadata": {},
   "outputs": [],
   "source": [
    "from textblob import TextBlob\n",
    "\n",
    "def correct_spelling(text):\n",
    "    return str(TextBlob(text).correct())\n",
    "\n",
    "# df_train['text_wo_punct_clean_spell'] = df_train['text_wo_punct_clean'].apply(correct_spelling)\n",
    "# df_train['title_wo_punct_clean_spell'] = df_train['title_wo_punct_clean'].apply(correct_spelling)\n",
    "# df_test['text_wo_punct_clean_spell'] = df_test['text_wo_punct_clean'].apply(correct_spelling)\n",
    "# df_test['title_wo_punct_clean_spell'] = df_test['title_wo_punct_clean'].apply(correct_spelling)"
   ]
  },
  {
   "cell_type": "markdown",
   "metadata": {},
   "source": [
    "#### **Step 4: Tokenization**\n",
    "Tokenizing is the process of splitting strings into a list of words. We will make use of Regular Expressions or regex to do the splitting. Regex can be used to describe a search pattern."
   ]
  },
  {
   "cell_type": "code",
   "execution_count": 16,
   "metadata": {},
   "outputs": [
    {
     "name": "stderr",
     "output_type": "stream",
     "text": [
      "<>:2: SyntaxWarning: invalid escape sequence '\\W'\n",
      "<>:2: SyntaxWarning: invalid escape sequence '\\W'\n",
      "C:\\Users\\sa\\AppData\\Local\\Temp\\ipykernel_10936\\2286958798.py:2: SyntaxWarning: invalid escape sequence '\\W'\n",
      "  split=re.split(\"\\W+\",text)\n"
     ]
    },
    {
     "data": {
      "text/plain": [
       "0        [house, dem, aide, we, didn, t, even, see, com...\n",
       "1        [flynn, hillary, clinton, big, woman, on, camp...\n",
       "2                [why, the, truth, might, get, you, fired]\n",
       "3        [, civilians, killed, in, single, us, airstrik...\n",
       "4        [iranian, woman, jailed, for, fictional, unpub...\n",
       "                               ...                        \n",
       "20795    [rapper, ti, trump, a, poster, child, for, whi...\n",
       "20796    [nfl, playoffs, schedule, matchups, and, odds,...\n",
       "20797    [macy, s, is, said, to, receive, takeover, app...\n",
       "20798    [nato, russia, to, hold, parallel, exercises, ...\n",
       "20799                         [what, keeps, the, f, alive]\n",
       "Name: title_wo_punct_clean_spell_split, Length: 18285, dtype: object"
      ]
     },
     "execution_count": 16,
     "metadata": {},
     "output_type": "execute_result"
    }
   ],
   "source": [
    "def tokenize(text):\n",
    "    split=re.split(\"\\W+\",text) \n",
    "    return split\n",
    "\n",
    "df_train['title_wo_punct_clean_spell_split']=df_train['title_wo_punct_clean'].apply(lambda x: tokenize(x.lower()))\n",
    "df_test['title_wo_punct_clean_spell_split']=df_test['title_wo_punct_clean'].apply(lambda x: tokenize(x.lower()))\n",
    "df_test['title_wo_punct_clean_spell_split']"
   ]
  },
  {
   "cell_type": "markdown",
   "metadata": {},
   "source": [
    "#### **Step 5: Stop words**\n",
    "Stop words are irrelevant words that won’t help in identifying a text as real or fake. We will use “nltk” library for stop-words and some of the stop words"
   ]
  },
  {
   "cell_type": "code",
   "execution_count": 17,
   "metadata": {},
   "outputs": [
    {
     "name": "stdout",
     "output_type": "stream",
     "text": [
      "Stopwords are: ['i', 'me', 'my', 'myself', 'we', 'our', 'ours', 'ourselves', 'you', \"you're\", \"you've\", \"you'll\", \"you'd\", 'your', 'yours', 'yourself', 'yourselves', 'he', 'him', 'his', 'himself', 'she', \"she's\", 'her', 'hers', 'herself', 'it', \"it's\", 'its', 'itself', 'they', 'them', 'their', 'theirs', 'themselves', 'what', 'which', 'who', 'whom', 'this', 'that', \"that'll\", 'these', 'those', 'am', 'is', 'are', 'was', 'were', 'be', 'been', 'being', 'have', 'has', 'had', 'having', 'do', 'does', 'did', 'doing', 'a', 'an', 'the', 'and', 'but', 'if', 'or', 'because', 'as', 'until', 'while', 'of', 'at', 'by', 'for', 'with', 'about', 'against', 'between', 'into', 'through', 'during', 'before', 'after', 'above', 'below', 'to', 'from', 'up', 'down', 'in', 'out', 'on', 'off', 'over', 'under', 'again', 'further', 'then', 'once', 'here', 'there', 'when', 'where', 'why', 'how', 'all', 'any', 'both', 'each', 'few', 'more', 'most', 'other', 'some', 'such', 'no', 'nor', 'not', 'only', 'own', 'same', 'so', 'than', 'too', 'very', 's', 't', 'can', 'will', 'just', 'don', \"don't\", 'should', \"should've\", 'now', 'd', 'll', 'm', 'o', 're', 've', 'y', 'ain', 'aren', \"aren't\", 'couldn', \"couldn't\", 'didn', \"didn't\", 'doesn', \"doesn't\", 'hadn', \"hadn't\", 'hasn', \"hasn't\", 'haven', \"haven't\", 'isn', \"isn't\", 'ma', 'mightn', \"mightn't\", 'mustn', \"mustn't\", 'needn', \"needn't\", 'shan', \"shan't\", 'shouldn', \"shouldn't\", 'wasn', \"wasn't\", 'weren', \"weren't\", 'won', \"won't\", 'wouldn', \"wouldn't\"]\n"
     ]
    }
   ],
   "source": [
    "import nltk\n",
    "from nltk.corpus import stopwords\n",
    "\n",
    "stopword = nltk.corpus.stopwords.words('english')\n",
    "print('Stopwords are:',stopword)"
   ]
  },
  {
   "cell_type": "code",
   "execution_count": 18,
   "metadata": {},
   "outputs": [
    {
     "data": {
      "text/html": [
       "<div>\n",
       "<style scoped>\n",
       "    .dataframe tbody tr th:only-of-type {\n",
       "        vertical-align: middle;\n",
       "    }\n",
       "\n",
       "    .dataframe tbody tr th {\n",
       "        vertical-align: top;\n",
       "    }\n",
       "\n",
       "    .dataframe thead th {\n",
       "        text-align: right;\n",
       "    }\n",
       "</style>\n",
       "<table border=\"1\" class=\"dataframe\">\n",
       "  <thead>\n",
       "    <tr style=\"text-align: right;\">\n",
       "      <th></th>\n",
       "      <th>id</th>\n",
       "      <th>title</th>\n",
       "      <th>author</th>\n",
       "      <th>text</th>\n",
       "      <th>label</th>\n",
       "      <th>title_wo_punct</th>\n",
       "      <th>title_wo_punct_clean</th>\n",
       "      <th>title_wo_punct_clean_spell_split</th>\n",
       "      <th>title_wo_punct_clean_spell_split_stopwords</th>\n",
       "    </tr>\n",
       "  </thead>\n",
       "  <tbody>\n",
       "    <tr>\n",
       "      <th>0</th>\n",
       "      <td>0</td>\n",
       "      <td>house dem aide: we didn’t even see comey’s let...</td>\n",
       "      <td>darrell lucus</td>\n",
       "      <td>house dem aide: we didn’t even see comey’s let...</td>\n",
       "      <td>1</td>\n",
       "      <td>house dem aide we didn’t even see comey’s lett...</td>\n",
       "      <td>house dem aide we didn’t even see comey’s lett...</td>\n",
       "      <td>[house, dem, aide, we, didn, t, even, see, com...</td>\n",
       "      <td>[house, dem, aide, even, see, comey, letter, j...</td>\n",
       "    </tr>\n",
       "    <tr>\n",
       "      <th>1</th>\n",
       "      <td>1</td>\n",
       "      <td>flynn: hillary clinton, big woman on campus - ...</td>\n",
       "      <td>daniel j. flynn</td>\n",
       "      <td>ever get the feeling your life circles the rou...</td>\n",
       "      <td>0</td>\n",
       "      <td>flynn hillary clinton big woman on campus  bre...</td>\n",
       "      <td>flynn hillary clinton big woman on campus  bre...</td>\n",
       "      <td>[flynn, hillary, clinton, big, woman, on, camp...</td>\n",
       "      <td>[flynn, hillary, clinton, big, woman, campus, ...</td>\n",
       "    </tr>\n",
       "    <tr>\n",
       "      <th>2</th>\n",
       "      <td>2</td>\n",
       "      <td>why the truth might get you fired</td>\n",
       "      <td>consortiumnews.com</td>\n",
       "      <td>why the truth might get you fired october 29, ...</td>\n",
       "      <td>1</td>\n",
       "      <td>why the truth might get you fired</td>\n",
       "      <td>why the truth might get you fired</td>\n",
       "      <td>[why, the, truth, might, get, you, fired]</td>\n",
       "      <td>[truth, might, get, fired]</td>\n",
       "    </tr>\n",
       "    <tr>\n",
       "      <th>3</th>\n",
       "      <td>3</td>\n",
       "      <td>15 civilians killed in single us airstrike hav...</td>\n",
       "      <td>jessica purkiss</td>\n",
       "      <td>videos 15 civilians killed in single us airstr...</td>\n",
       "      <td>1</td>\n",
       "      <td>15 civilians killed in single us airstrike hav...</td>\n",
       "      <td>civilians killed in single us airstrike have ...</td>\n",
       "      <td>[, civilians, killed, in, single, us, airstrik...</td>\n",
       "      <td>[, civilians, killed, single, us, airstrike, i...</td>\n",
       "    </tr>\n",
       "    <tr>\n",
       "      <th>4</th>\n",
       "      <td>4</td>\n",
       "      <td>iranian woman jailed for fictional unpublished...</td>\n",
       "      <td>howard portnoy</td>\n",
       "      <td>print \\nan iranian woman has been sentenced to...</td>\n",
       "      <td>1</td>\n",
       "      <td>iranian woman jailed for fictional unpublished...</td>\n",
       "      <td>iranian woman jailed for fictional unpublished...</td>\n",
       "      <td>[iranian, woman, jailed, for, fictional, unpub...</td>\n",
       "      <td>[iranian, woman, jailed, fictional, unpublishe...</td>\n",
       "    </tr>\n",
       "  </tbody>\n",
       "</table>\n",
       "</div>"
      ],
      "text/plain": [
       "   id                                              title              author  \\\n",
       "0   0  house dem aide: we didn’t even see comey’s let...       darrell lucus   \n",
       "1   1  flynn: hillary clinton, big woman on campus - ...     daniel j. flynn   \n",
       "2   2                  why the truth might get you fired  consortiumnews.com   \n",
       "3   3  15 civilians killed in single us airstrike hav...     jessica purkiss   \n",
       "4   4  iranian woman jailed for fictional unpublished...      howard portnoy   \n",
       "\n",
       "                                                text  label  \\\n",
       "0  house dem aide: we didn’t even see comey’s let...      1   \n",
       "1  ever get the feeling your life circles the rou...      0   \n",
       "2  why the truth might get you fired october 29, ...      1   \n",
       "3  videos 15 civilians killed in single us airstr...      1   \n",
       "4  print \\nan iranian woman has been sentenced to...      1   \n",
       "\n",
       "                                      title_wo_punct  \\\n",
       "0  house dem aide we didn’t even see comey’s lett...   \n",
       "1  flynn hillary clinton big woman on campus  bre...   \n",
       "2                  why the truth might get you fired   \n",
       "3  15 civilians killed in single us airstrike hav...   \n",
       "4  iranian woman jailed for fictional unpublished...   \n",
       "\n",
       "                                title_wo_punct_clean  \\\n",
       "0  house dem aide we didn’t even see comey’s lett...   \n",
       "1  flynn hillary clinton big woman on campus  bre...   \n",
       "2                  why the truth might get you fired   \n",
       "3   civilians killed in single us airstrike have ...   \n",
       "4  iranian woman jailed for fictional unpublished...   \n",
       "\n",
       "                    title_wo_punct_clean_spell_split  \\\n",
       "0  [house, dem, aide, we, didn, t, even, see, com...   \n",
       "1  [flynn, hillary, clinton, big, woman, on, camp...   \n",
       "2          [why, the, truth, might, get, you, fired]   \n",
       "3  [, civilians, killed, in, single, us, airstrik...   \n",
       "4  [iranian, woman, jailed, for, fictional, unpub...   \n",
       "\n",
       "          title_wo_punct_clean_spell_split_stopwords  \n",
       "0  [house, dem, aide, even, see, comey, letter, j...  \n",
       "1  [flynn, hillary, clinton, big, woman, campus, ...  \n",
       "2                         [truth, might, get, fired]  \n",
       "3  [, civilians, killed, single, us, airstrike, i...  \n",
       "4  [iranian, woman, jailed, fictional, unpublishe...  "
      ]
     },
     "execution_count": 18,
     "metadata": {},
     "output_type": "execute_result"
    }
   ],
   "source": [
    "def remove_stopwords(text):\n",
    "    text=[word for word in text if word not in stopword]\n",
    "    return text\n",
    "\n",
    "df_train['title_wo_punct_clean_spell_split_stopwords']=df_train['title_wo_punct_clean_spell_split'].apply(lambda x: remove_stopwords(x))\n",
    "df_test['title_wo_punct_clean_spell_split_stopwords']=df_test['title_wo_punct_clean_spell_split'].apply(lambda x: remove_stopwords(x))\n",
    "df_train.head()"
   ]
  },
  {
   "cell_type": "markdown",
   "metadata": {},
   "source": [
    "#### **Step 6: Normalization**\n",
    "Normalization brings all the words under on the roof by adding stemming and lemmatization"
   ]
  },
  {
   "cell_type": "markdown",
   "metadata": {},
   "source": [
    "**Stemming**\n",
    "There are many variations of words that do not bring any new information and create redundancy. Take *\"He likes to walk\"* and *\"He likes walking,\"* for example. Both have the same meaning, so the stemming function will remove the suffix and convert *\"walking\" to \"walk.\"* The example in this guide uses the PorterStemmer module to conduct the process. You can use the snowball module for different languages."
   ]
  },
  {
   "cell_type": "code",
   "execution_count": 19,
   "metadata": {},
   "outputs": [
    {
     "data": {
      "text/html": [
       "<div>\n",
       "<style scoped>\n",
       "    .dataframe tbody tr th:only-of-type {\n",
       "        vertical-align: middle;\n",
       "    }\n",
       "\n",
       "    .dataframe tbody tr th {\n",
       "        vertical-align: top;\n",
       "    }\n",
       "\n",
       "    .dataframe thead th {\n",
       "        text-align: right;\n",
       "    }\n",
       "</style>\n",
       "<table border=\"1\" class=\"dataframe\">\n",
       "  <thead>\n",
       "    <tr style=\"text-align: right;\">\n",
       "      <th></th>\n",
       "      <th>id</th>\n",
       "      <th>title</th>\n",
       "      <th>author</th>\n",
       "      <th>text</th>\n",
       "      <th>label</th>\n",
       "      <th>title_wo_punct</th>\n",
       "      <th>title_wo_punct_clean</th>\n",
       "      <th>title_wo_punct_clean_spell_split</th>\n",
       "      <th>title_wo_punct_clean_spell_split_stopwords</th>\n",
       "      <th>title_wo_punct_clean_spell_split_stopwords_stemp</th>\n",
       "    </tr>\n",
       "  </thead>\n",
       "  <tbody>\n",
       "    <tr>\n",
       "      <th>0</th>\n",
       "      <td>0</td>\n",
       "      <td>house dem aide: we didn’t even see comey’s let...</td>\n",
       "      <td>darrell lucus</td>\n",
       "      <td>house dem aide: we didn’t even see comey’s let...</td>\n",
       "      <td>1</td>\n",
       "      <td>house dem aide we didn’t even see comey’s lett...</td>\n",
       "      <td>house dem aide we didn’t even see comey’s lett...</td>\n",
       "      <td>[house, dem, aide, we, didn, t, even, see, com...</td>\n",
       "      <td>[house, dem, aide, even, see, comey, letter, j...</td>\n",
       "      <td>[house, dem, aide, even, see, comey, letter, j...</td>\n",
       "    </tr>\n",
       "    <tr>\n",
       "      <th>1</th>\n",
       "      <td>1</td>\n",
       "      <td>flynn: hillary clinton, big woman on campus - ...</td>\n",
       "      <td>daniel j. flynn</td>\n",
       "      <td>ever get the feeling your life circles the rou...</td>\n",
       "      <td>0</td>\n",
       "      <td>flynn hillary clinton big woman on campus  bre...</td>\n",
       "      <td>flynn hillary clinton big woman on campus  bre...</td>\n",
       "      <td>[flynn, hillary, clinton, big, woman, on, camp...</td>\n",
       "      <td>[flynn, hillary, clinton, big, woman, campus, ...</td>\n",
       "      <td>[flynn, hillary, clinton, big, woman, campus, ...</td>\n",
       "    </tr>\n",
       "    <tr>\n",
       "      <th>2</th>\n",
       "      <td>2</td>\n",
       "      <td>why the truth might get you fired</td>\n",
       "      <td>consortiumnews.com</td>\n",
       "      <td>why the truth might get you fired october 29, ...</td>\n",
       "      <td>1</td>\n",
       "      <td>why the truth might get you fired</td>\n",
       "      <td>why the truth might get you fired</td>\n",
       "      <td>[why, the, truth, might, get, you, fired]</td>\n",
       "      <td>[truth, might, get, fired]</td>\n",
       "      <td>[truth, might, get, fired]</td>\n",
       "    </tr>\n",
       "    <tr>\n",
       "      <th>3</th>\n",
       "      <td>3</td>\n",
       "      <td>15 civilians killed in single us airstrike hav...</td>\n",
       "      <td>jessica purkiss</td>\n",
       "      <td>videos 15 civilians killed in single us airstr...</td>\n",
       "      <td>1</td>\n",
       "      <td>15 civilians killed in single us airstrike hav...</td>\n",
       "      <td>civilians killed in single us airstrike have ...</td>\n",
       "      <td>[, civilians, killed, in, single, us, airstrik...</td>\n",
       "      <td>[, civilians, killed, single, us, airstrike, i...</td>\n",
       "      <td>[, civilians, killed, single, us, airstrike, i...</td>\n",
       "    </tr>\n",
       "    <tr>\n",
       "      <th>4</th>\n",
       "      <td>4</td>\n",
       "      <td>iranian woman jailed for fictional unpublished...</td>\n",
       "      <td>howard portnoy</td>\n",
       "      <td>print \\nan iranian woman has been sentenced to...</td>\n",
       "      <td>1</td>\n",
       "      <td>iranian woman jailed for fictional unpublished...</td>\n",
       "      <td>iranian woman jailed for fictional unpublished...</td>\n",
       "      <td>[iranian, woman, jailed, for, fictional, unpub...</td>\n",
       "      <td>[iranian, woman, jailed, fictional, unpublishe...</td>\n",
       "      <td>[iranian, woman, jailed, fictional, unpublishe...</td>\n",
       "    </tr>\n",
       "  </tbody>\n",
       "</table>\n",
       "</div>"
      ],
      "text/plain": [
       "   id                                              title              author  \\\n",
       "0   0  house dem aide: we didn’t even see comey’s let...       darrell lucus   \n",
       "1   1  flynn: hillary clinton, big woman on campus - ...     daniel j. flynn   \n",
       "2   2                  why the truth might get you fired  consortiumnews.com   \n",
       "3   3  15 civilians killed in single us airstrike hav...     jessica purkiss   \n",
       "4   4  iranian woman jailed for fictional unpublished...      howard portnoy   \n",
       "\n",
       "                                                text  label  \\\n",
       "0  house dem aide: we didn’t even see comey’s let...      1   \n",
       "1  ever get the feeling your life circles the rou...      0   \n",
       "2  why the truth might get you fired october 29, ...      1   \n",
       "3  videos 15 civilians killed in single us airstr...      1   \n",
       "4  print \\nan iranian woman has been sentenced to...      1   \n",
       "\n",
       "                                      title_wo_punct  \\\n",
       "0  house dem aide we didn’t even see comey’s lett...   \n",
       "1  flynn hillary clinton big woman on campus  bre...   \n",
       "2                  why the truth might get you fired   \n",
       "3  15 civilians killed in single us airstrike hav...   \n",
       "4  iranian woman jailed for fictional unpublished...   \n",
       "\n",
       "                                title_wo_punct_clean  \\\n",
       "0  house dem aide we didn’t even see comey’s lett...   \n",
       "1  flynn hillary clinton big woman on campus  bre...   \n",
       "2                  why the truth might get you fired   \n",
       "3   civilians killed in single us airstrike have ...   \n",
       "4  iranian woman jailed for fictional unpublished...   \n",
       "\n",
       "                    title_wo_punct_clean_spell_split  \\\n",
       "0  [house, dem, aide, we, didn, t, even, see, com...   \n",
       "1  [flynn, hillary, clinton, big, woman, on, camp...   \n",
       "2          [why, the, truth, might, get, you, fired]   \n",
       "3  [, civilians, killed, in, single, us, airstrik...   \n",
       "4  [iranian, woman, jailed, for, fictional, unpub...   \n",
       "\n",
       "          title_wo_punct_clean_spell_split_stopwords  \\\n",
       "0  [house, dem, aide, even, see, comey, letter, j...   \n",
       "1  [flynn, hillary, clinton, big, woman, campus, ...   \n",
       "2                         [truth, might, get, fired]   \n",
       "3  [, civilians, killed, single, us, airstrike, i...   \n",
       "4  [iranian, woman, jailed, fictional, unpublishe...   \n",
       "\n",
       "    title_wo_punct_clean_spell_split_stopwords_stemp  \n",
       "0  [house, dem, aide, even, see, comey, letter, j...  \n",
       "1  [flynn, hillary, clinton, big, woman, campus, ...  \n",
       "2                         [truth, might, get, fired]  \n",
       "3  [, civilians, killed, single, us, airstrike, i...  \n",
       "4  [iranian, woman, jailed, fictional, unpublishe...  "
      ]
     },
     "execution_count": 19,
     "metadata": {},
     "output_type": "execute_result"
    }
   ],
   "source": [
    "from nltk.stem.porter import PorterStemmer \n",
    "# Stemming: Taking the root of the word\n",
    "def stemming_text(word_list):\n",
    "    porter_stemmer = PorterStemmer()\n",
    "    stem_output = ' '.join([PorterStemmer().stem(word) for word in word_list])\n",
    "    return stem_output\n",
    "df_train['title_wo_punct_clean_spell_split_stopwords_stemp']=df_train['title_wo_punct_clean_spell_split_stopwords'].apply(lambda x: remove_stopwords(x))\n",
    "df_test ['title_wo_punct_clean_spell_split_stopwords_stemp']=df_test['title_wo_punct_clean_spell_split_stopwords'].apply(lambda x: remove_stopwords(x))\n",
    "df_train.head()"
   ]
  },
  {
   "cell_type": "markdown",
   "metadata": {},
   "source": [
    "**Lemmatization**\n",
    "\n",
    "Unlike stemming, *lemmatization* performs normalization using vocabulary and morphological analysis of words. *Lemmatization* aims to remove inflectional endings only and to return the base or dictionary form of a word, which is known as the lemma. *Lemmatization* uses a dictionary, which makes it slower than stemming, however the results make much more sense than what you get from stemming. *Lemmatization* is built on WordNet's built-in morphy function, making it an intelligent operation for text analysis. A WordNet module is a large and public lexical database for the English language. Its aim is to maintain the structured relationship between the words. The *WordNetLemmitizer()* is the earliest and most widely used function."
   ]
  },
  {
   "cell_type": "code",
   "execution_count": 32,
   "metadata": {},
   "outputs": [
    {
     "data": {
      "text/html": [
       "<div>\n",
       "<style scoped>\n",
       "    .dataframe tbody tr th:only-of-type {\n",
       "        vertical-align: middle;\n",
       "    }\n",
       "\n",
       "    .dataframe tbody tr th {\n",
       "        vertical-align: top;\n",
       "    }\n",
       "\n",
       "    .dataframe thead th {\n",
       "        text-align: right;\n",
       "    }\n",
       "</style>\n",
       "<table border=\"1\" class=\"dataframe\">\n",
       "  <thead>\n",
       "    <tr style=\"text-align: right;\">\n",
       "      <th></th>\n",
       "      <th>id</th>\n",
       "      <th>title</th>\n",
       "      <th>author</th>\n",
       "      <th>text</th>\n",
       "      <th>label</th>\n",
       "      <th>title_wo_punct</th>\n",
       "      <th>title_wo_punct_clean</th>\n",
       "      <th>title_wo_punct_clean_spell_split</th>\n",
       "      <th>title_wo_punct_clean_spell_split_stopwords</th>\n",
       "      <th>title_wo_punct_clean_spell_split_stopwords_stemp</th>\n",
       "      <th>clean_title</th>\n",
       "    </tr>\n",
       "  </thead>\n",
       "  <tbody>\n",
       "    <tr>\n",
       "      <th>0</th>\n",
       "      <td>0</td>\n",
       "      <td>house dem aide: we didn’t even see comey’s let...</td>\n",
       "      <td>darrell lucus</td>\n",
       "      <td>house dem aide: we didn’t even see comey’s let...</td>\n",
       "      <td>1</td>\n",
       "      <td>house dem aide we didn’t even see comey’s lett...</td>\n",
       "      <td>house dem aide we didn’t even see comey’s lett...</td>\n",
       "      <td>[house, dem, aide, we, didn, t, even, see, com...</td>\n",
       "      <td>[house, dem, aide, even, see, comey, letter, j...</td>\n",
       "      <td>[house, dem, aide, even, see, comey, letter, j...</td>\n",
       "      <td>house dem aide even see comey letter jason cha...</td>\n",
       "    </tr>\n",
       "    <tr>\n",
       "      <th>1</th>\n",
       "      <td>1</td>\n",
       "      <td>flynn: hillary clinton, big woman on campus - ...</td>\n",
       "      <td>daniel j. flynn</td>\n",
       "      <td>ever get the feeling your life circles the rou...</td>\n",
       "      <td>0</td>\n",
       "      <td>flynn hillary clinton big woman on campus  bre...</td>\n",
       "      <td>flynn hillary clinton big woman on campus  bre...</td>\n",
       "      <td>[flynn, hillary, clinton, big, woman, on, camp...</td>\n",
       "      <td>[flynn, hillary, clinton, big, woman, campus, ...</td>\n",
       "      <td>[flynn, hillary, clinton, big, woman, campus, ...</td>\n",
       "      <td>flynn hillary clinton big woman campus breitbart</td>\n",
       "    </tr>\n",
       "    <tr>\n",
       "      <th>2</th>\n",
       "      <td>2</td>\n",
       "      <td>why the truth might get you fired</td>\n",
       "      <td>consortiumnews.com</td>\n",
       "      <td>why the truth might get you fired october 29, ...</td>\n",
       "      <td>1</td>\n",
       "      <td>why the truth might get you fired</td>\n",
       "      <td>why the truth might get you fired</td>\n",
       "      <td>[why, the, truth, might, get, you, fired]</td>\n",
       "      <td>[truth, might, get, fired]</td>\n",
       "      <td>[truth, might, get, fired]</td>\n",
       "      <td>truth might get fired</td>\n",
       "    </tr>\n",
       "    <tr>\n",
       "      <th>3</th>\n",
       "      <td>3</td>\n",
       "      <td>15 civilians killed in single us airstrike hav...</td>\n",
       "      <td>jessica purkiss</td>\n",
       "      <td>videos 15 civilians killed in single us airstr...</td>\n",
       "      <td>1</td>\n",
       "      <td>15 civilians killed in single us airstrike hav...</td>\n",
       "      <td>civilians killed in single us airstrike have ...</td>\n",
       "      <td>[, civilians, killed, in, single, us, airstrik...</td>\n",
       "      <td>[, civilians, killed, single, us, airstrike, i...</td>\n",
       "      <td>[, civilians, killed, single, us, airstrike, i...</td>\n",
       "      <td>civilian killed single u airstrike identified</td>\n",
       "    </tr>\n",
       "    <tr>\n",
       "      <th>4</th>\n",
       "      <td>4</td>\n",
       "      <td>iranian woman jailed for fictional unpublished...</td>\n",
       "      <td>howard portnoy</td>\n",
       "      <td>print \\nan iranian woman has been sentenced to...</td>\n",
       "      <td>1</td>\n",
       "      <td>iranian woman jailed for fictional unpublished...</td>\n",
       "      <td>iranian woman jailed for fictional unpublished...</td>\n",
       "      <td>[iranian, woman, jailed, for, fictional, unpub...</td>\n",
       "      <td>[iranian, woman, jailed, fictional, unpublishe...</td>\n",
       "      <td>[iranian, woman, jailed, fictional, unpublishe...</td>\n",
       "      <td>iranian woman jailed fictional unpublished sto...</td>\n",
       "    </tr>\n",
       "  </tbody>\n",
       "</table>\n",
       "</div>"
      ],
      "text/plain": [
       "   id                                              title              author  \\\n",
       "0   0  house dem aide: we didn’t even see comey’s let...       darrell lucus   \n",
       "1   1  flynn: hillary clinton, big woman on campus - ...     daniel j. flynn   \n",
       "2   2                  why the truth might get you fired  consortiumnews.com   \n",
       "3   3  15 civilians killed in single us airstrike hav...     jessica purkiss   \n",
       "4   4  iranian woman jailed for fictional unpublished...      howard portnoy   \n",
       "\n",
       "                                                text  label  \\\n",
       "0  house dem aide: we didn’t even see comey’s let...      1   \n",
       "1  ever get the feeling your life circles the rou...      0   \n",
       "2  why the truth might get you fired october 29, ...      1   \n",
       "3  videos 15 civilians killed in single us airstr...      1   \n",
       "4  print \\nan iranian woman has been sentenced to...      1   \n",
       "\n",
       "                                      title_wo_punct  \\\n",
       "0  house dem aide we didn’t even see comey’s lett...   \n",
       "1  flynn hillary clinton big woman on campus  bre...   \n",
       "2                  why the truth might get you fired   \n",
       "3  15 civilians killed in single us airstrike hav...   \n",
       "4  iranian woman jailed for fictional unpublished...   \n",
       "\n",
       "                                title_wo_punct_clean  \\\n",
       "0  house dem aide we didn’t even see comey’s lett...   \n",
       "1  flynn hillary clinton big woman on campus  bre...   \n",
       "2                  why the truth might get you fired   \n",
       "3   civilians killed in single us airstrike have ...   \n",
       "4  iranian woman jailed for fictional unpublished...   \n",
       "\n",
       "                    title_wo_punct_clean_spell_split  \\\n",
       "0  [house, dem, aide, we, didn, t, even, see, com...   \n",
       "1  [flynn, hillary, clinton, big, woman, on, camp...   \n",
       "2          [why, the, truth, might, get, you, fired]   \n",
       "3  [, civilians, killed, in, single, us, airstrik...   \n",
       "4  [iranian, woman, jailed, for, fictional, unpub...   \n",
       "\n",
       "          title_wo_punct_clean_spell_split_stopwords  \\\n",
       "0  [house, dem, aide, even, see, comey, letter, j...   \n",
       "1  [flynn, hillary, clinton, big, woman, campus, ...   \n",
       "2                         [truth, might, get, fired]   \n",
       "3  [, civilians, killed, single, us, airstrike, i...   \n",
       "4  [iranian, woman, jailed, fictional, unpublishe...   \n",
       "\n",
       "    title_wo_punct_clean_spell_split_stopwords_stemp  \\\n",
       "0  [house, dem, aide, even, see, comey, letter, j...   \n",
       "1  [flynn, hillary, clinton, big, woman, campus, ...   \n",
       "2                         [truth, might, get, fired]   \n",
       "3  [, civilians, killed, single, us, airstrike, i...   \n",
       "4  [iranian, woman, jailed, fictional, unpublishe...   \n",
       "\n",
       "                                         clean_title  \n",
       "0  house dem aide even see comey letter jason cha...  \n",
       "1   flynn hillary clinton big woman campus breitbart  \n",
       "2                              truth might get fired  \n",
       "3      civilian killed single u airstrike identified  \n",
       "4  iranian woman jailed fictional unpublished sto...  "
      ]
     },
     "execution_count": 32,
     "metadata": {},
     "output_type": "execute_result"
    }
   ],
   "source": [
    "from nltk.stem import WordNetLemmatizer\n",
    "def lemmatize_text(word_list):\n",
    "    lemmatizer = WordNetLemmatizer()\n",
    "    lemmatized_output = ' '.join([lemmatizer.lemmatize(w) for w in word_list])\n",
    "    return lemmatized_output\n",
    "\n",
    "df_train['clean_title']=df_train['title_wo_punct_clean_spell_split_stopwords_stemp'].apply(lambda x: lemmatize_text(x))\n",
    "df_test['clean_title']=df_test['title_wo_punct_clean_spell_split_stopwords_stemp'].apply(lambda x: lemmatize_text(x))\n",
    "df_test.head()"
   ]
  },
  {
   "cell_type": "markdown",
   "metadata": {},
   "source": [
    "### **Embeddings**\n",
    "Word Embeddings or Word vectorization is a methodology in NLP to map words or phrases from vocabulary to a corresponding vector of real numbers\n",
    "To convert string data into numerical data one can use following methods\n",
    "- Bag of words\n",
    "- TFIDF\n",
    "- Word2Vec"
   ]
  },
  {
   "cell_type": "markdown",
   "metadata": {},
   "source": [
    "#### **Bag of Words**\n",
    "The bag of words is a representation of text that describes the occurrence of words within a document. It involves two things:\n",
    "- A vocabulary of known words.\n",
    "- A measure of the presence of known words.\n",
    "Why is it is called a “bag” of words?\n",
    "\n",
    "Its called bag of words because any information about the order or structure of words in the document is discarded and the model is only concerned with whether the known words occur in the document, not where they occur in the document.\n",
    "\n",
    "**Bag of Words - Countvectorizer Features:** Countvectorizer converts a collection of text documents to a matrix of token counts. It is important to note that CountVectorizer comes with a lot of options to automatically do preprocessing, tokenization, and stop word removal. However, all the pre-processing of the text has already been performed by creating a function.Only vanilla version of Countvectorizer will be used.\n"
   ]
  },
  {
   "cell_type": "code",
   "execution_count": 33,
   "metadata": {},
   "outputs": [
    {
     "data": {
      "text/plain": [
       "'flynn hillary clinton big woman campus breitbart'"
      ]
     },
     "execution_count": 33,
     "metadata": {},
     "output_type": "execute_result"
    }
   ],
   "source": [
    "corpus_train = df_train['clean_title']\n",
    "corpus_test = df_test['clean_title']\n",
    "corpus_train[1]"
   ]
  },
  {
   "cell_type": "code",
   "execution_count": 34,
   "metadata": {},
   "outputs": [
    {
     "data": {
      "text/plain": [
       "[5518, 3456, 5776, 3129, 8470, 4476, 7109]"
      ]
     },
     "execution_count": 34,
     "metadata": {},
     "output_type": "execute_result"
    }
   ],
   "source": [
    "from tensorflow.keras.preprocessing.text import one_hot\n",
    "vocab_size = 10000  \n",
    "onehot_repr_test=[one_hot(words,vocab_size)for words in corpus_test] \n",
    "onehot_repr_train=[one_hot(words,vocab_size)for words in corpus_train]\n",
    "onehot_repr_train[1]"
   ]
  },
  {
   "cell_type": "code",
   "execution_count": 41,
   "metadata": {},
   "outputs": [],
   "source": [
    "from sklearn.model_selection import train_test_split\n",
    "\n",
    "#Split the CountVector vectorized data into train and test datasets for model training and testing\n",
    "X_train, X_test, y_train, y_test =train_test_split(onehot_repr_train,df_train.label,test_size=0.2,random_state=2020)\n"
   ]
  },
  {
   "cell_type": "markdown",
   "metadata": {},
   "source": [
    "#### **Padding**"
   ]
  },
  {
   "cell_type": "code",
   "execution_count": 42,
   "metadata": {},
   "outputs": [
    {
     "name": "stdout",
     "output_type": "stream",
     "text": [
      "Shape of train: (14628, 46)\n",
      "Shape of validation: (3657, 46)\n"
     ]
    }
   ],
   "source": [
    "from tensorflow.keras.preprocessing.sequence import pad_sequences\n",
    "\n",
    "# Determine the maximum length of sequences (you can set it to any value based on your data)\n",
    "max_length = max(len(seq) for seq in onehot_repr_train)\n",
    "\n",
    "# Pad sequences to ensure all sequences have the same length\n",
    "X_train_padded = pad_sequences(X_train, maxlen=max_length, padding='post')\n",
    "X_test_padded = pad_sequences(X_test, maxlen=max_length, padding='post')\n",
    "\n",
    "# Convert to numpy arrays\n",
    "X_train = np.array(X_train_padded)\n",
    "X_test = np.array(X_test_padded)\n",
    "\n",
    "# Now you can access the shape attribute\n",
    "print('Shape of train:', X_train.shape)\n",
    "print(\"Shape of validation:\", X_test.shape)"
   ]
  },
  {
   "cell_type": "markdown",
   "metadata": {},
   "source": [
    "### **Creating Model**"
   ]
  },
  {
   "cell_type": "code",
   "execution_count": 44,
   "metadata": {},
   "outputs": [
    {
     "name": "stderr",
     "output_type": "stream",
     "text": [
      "c:\\Users\\sa\\AppData\\Local\\Programs\\Python\\Python312\\Lib\\site-packages\\keras\\src\\layers\\core\\embedding.py:90: UserWarning: Argument `input_length` is deprecated. Just remove it.\n",
      "  warnings.warn(\n"
     ]
    }
   ],
   "source": [
    "import numpy as np\n",
    "from tensorflow.keras.layers import LSTM\n",
    "from tensorflow.keras.models import Sequential\n",
    "from tensorflow.keras.layers import Embedding, LSTM, Dense, Dropout\n",
    "\n",
    "# Build the model\n",
    "model = Sequential()\n",
    "# Add Embedding layer\n",
    "model.add(Embedding(input_dim=vocab_size, output_dim=embedded_vector_features, input_length=max_length))\n",
    "# Add Dropout layer\n",
    "model.add(Dropout(0.3))\n",
    "# Add LSTM layer\n",
    "model.add(LSTM(100))\n",
    "# Add Dropout layer\n",
    "model.add(Dropout(0.3))\n",
    "# Add Dense layer\n",
    "model.add(Dense(1, activation='sigmoid'))\n",
    "# Compile the model\n",
    "model.compile(loss='binary_crossentropy', optimizer='adam', metrics=['accuracy'])"
   ]
  },
  {
   "cell_type": "markdown",
   "metadata": {},
   "source": [
    "### **Model Prediction**"
   ]
  },
  {
   "cell_type": "code",
   "execution_count": 45,
   "metadata": {},
   "outputs": [
    {
     "name": "stdout",
     "output_type": "stream",
     "text": [
      "Epoch 1/10\n",
      "\u001b[1m229/229\u001b[0m \u001b[32m━━━━━━━━━━━━━━━━━━━━\u001b[0m\u001b[37m\u001b[0m \u001b[1m10s\u001b[0m 37ms/step - accuracy: 0.6619 - loss: 0.5731 - val_accuracy: 0.9117 - val_loss: 0.2153\n",
      "Epoch 2/10\n",
      "\u001b[1m229/229\u001b[0m \u001b[32m━━━━━━━━━━━━━━━━━━━━\u001b[0m\u001b[37m\u001b[0m \u001b[1m8s\u001b[0m 35ms/step - accuracy: 0.9354 - loss: 0.1757 - val_accuracy: 0.9240 - val_loss: 0.2164\n",
      "Epoch 3/10\n",
      "\u001b[1m229/229\u001b[0m \u001b[32m━━━━━━━━━━━━━━━━━━━━\u001b[0m\u001b[37m\u001b[0m \u001b[1m9s\u001b[0m 40ms/step - accuracy: 0.9634 - loss: 0.1135 - val_accuracy: 0.9297 - val_loss: 0.1926\n",
      "Epoch 4/10\n",
      "\u001b[1m229/229\u001b[0m \u001b[32m━━━━━━━━━━━━━━━━━━━━\u001b[0m\u001b[37m\u001b[0m \u001b[1m9s\u001b[0m 41ms/step - accuracy: 0.9784 - loss: 0.0736 - val_accuracy: 0.9264 - val_loss: 0.2092\n",
      "Epoch 5/10\n",
      "\u001b[1m229/229\u001b[0m \u001b[32m━━━━━━━━━━━━━━━━━━━━\u001b[0m\u001b[37m\u001b[0m \u001b[1m8s\u001b[0m 33ms/step - accuracy: 0.9843 - loss: 0.0595 - val_accuracy: 0.9240 - val_loss: 0.2399\n",
      "Epoch 6/10\n",
      "\u001b[1m229/229\u001b[0m \u001b[32m━━━━━━━━━━━━━━━━━━━━\u001b[0m\u001b[37m\u001b[0m \u001b[1m9s\u001b[0m 38ms/step - accuracy: 0.9841 - loss: 0.0555 - val_accuracy: 0.9207 - val_loss: 0.2569\n",
      "Epoch 7/10\n",
      "\u001b[1m229/229\u001b[0m \u001b[32m━━━━━━━━━━━━━━━━━━━━\u001b[0m\u001b[37m\u001b[0m \u001b[1m9s\u001b[0m 38ms/step - accuracy: 0.9868 - loss: 0.0514 - val_accuracy: 0.9185 - val_loss: 0.3229\n",
      "Epoch 8/10\n",
      "\u001b[1m229/229\u001b[0m \u001b[32m━━━━━━━━━━━━━━━━━━━━\u001b[0m\u001b[37m\u001b[0m \u001b[1m9s\u001b[0m 38ms/step - accuracy: 0.9891 - loss: 0.0381 - val_accuracy: 0.9182 - val_loss: 0.3379\n",
      "Epoch 9/10\n",
      "\u001b[1m229/229\u001b[0m \u001b[32m━━━━━━━━━━━━━━━━━━━━\u001b[0m\u001b[37m\u001b[0m \u001b[1m9s\u001b[0m 39ms/step - accuracy: 0.9894 - loss: 0.0404 - val_accuracy: 0.9166 - val_loss: 0.3460\n",
      "Epoch 10/10\n",
      "\u001b[1m229/229\u001b[0m \u001b[32m━━━━━━━━━━━━━━━━━━━━\u001b[0m\u001b[37m\u001b[0m \u001b[1m10s\u001b[0m 43ms/step - accuracy: 0.9929 - loss: 0.0322 - val_accuracy: 0.9155 - val_loss: 0.3186\n"
     ]
    },
    {
     "data": {
      "text/plain": [
       "<keras.src.callbacks.history.History at 0x21e77ab89e0>"
      ]
     },
     "execution_count": 45,
     "metadata": {},
     "output_type": "execute_result"
    }
   ],
   "source": [
    "model.fit(X_train, y_train, validation_data=(X_test, y_test), epochs=10, batch_size=64)"
   ]
  },
  {
   "cell_type": "markdown",
   "metadata": {},
   "source": [
    "### **Performance Metrics**"
   ]
  },
  {
   "cell_type": "code",
   "execution_count": 46,
   "metadata": {},
   "outputs": [
    {
     "name": "stdout",
     "output_type": "stream",
     "text": [
      "\u001b[1m115/115\u001b[0m \u001b[32m━━━━━━━━━━━━━━━━━━━━\u001b[0m\u001b[37m\u001b[0m \u001b[1m2s\u001b[0m 14ms/step\n"
     ]
    }
   ],
   "source": [
    "y_pred = model.predict(X_test)"
   ]
  },
  {
   "cell_type": "code",
   "execution_count": 47,
   "metadata": {},
   "outputs": [
    {
     "data": {
      "text/plain": [
       "array([[1],\n",
       "       [1],\n",
       "       [0],\n",
       "       ...,\n",
       "       [0],\n",
       "       [0],\n",
       "       [0]])"
      ]
     },
     "execution_count": 47,
     "metadata": {},
     "output_type": "execute_result"
    }
   ],
   "source": [
    "# AUC ROC Curve\n",
    "y_pred = np.where(y_pred>0.5, 1, 0)\n",
    "y_pred"
   ]
  },
  {
   "cell_type": "code",
   "execution_count": 48,
   "metadata": {},
   "outputs": [
    {
     "data": {
      "text/plain": [
       "array([[1966,  136],\n",
       "       [ 173, 1382]], dtype=int64)"
      ]
     },
     "execution_count": 48,
     "metadata": {},
     "output_type": "execute_result"
    }
   ],
   "source": [
    "from sklearn.metrics import confusion_matrix\n",
    "confusion_matrix(y_test, y_pred)"
   ]
  },
  {
   "cell_type": "code",
   "execution_count": 49,
   "metadata": {},
   "outputs": [
    {
     "data": {
      "text/plain": [
       "0.9155045118949959"
      ]
     },
     "execution_count": 49,
     "metadata": {},
     "output_type": "execute_result"
    }
   ],
   "source": [
    "from sklearn.metrics import accuracy_score\n",
    "accuracy_score(y_test, y_pred)"
   ]
  },
  {
   "cell_type": "code",
   "execution_count": 50,
   "metadata": {},
   "outputs": [
    {
     "name": "stdout",
     "output_type": "stream",
     "text": [
      "              precision    recall  f1-score   support\n",
      "\n",
      "           0       0.92      0.94      0.93      2102\n",
      "           1       0.91      0.89      0.90      1555\n",
      "\n",
      "    accuracy                           0.92      3657\n",
      "   macro avg       0.91      0.91      0.91      3657\n",
      "weighted avg       0.92      0.92      0.92      3657\n",
      "\n"
     ]
    }
   ],
   "source": [
    "from sklearn.metrics import classification_report\n",
    "print(classification_report(y_test, y_pred))"
   ]
  }
 ],
 "metadata": {
  "kernelspec": {
   "display_name": "Python 3",
   "language": "python",
   "name": "python3"
  },
  "language_info": {
   "codemirror_mode": {
    "name": "ipython",
    "version": 3
   },
   "file_extension": ".py",
   "mimetype": "text/x-python",
   "name": "python",
   "nbconvert_exporter": "python",
   "pygments_lexer": "ipython3",
   "version": "3.12.0"
  }
 },
 "nbformat": 4,
 "nbformat_minor": 2
}
